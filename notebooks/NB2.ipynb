{
 "cells": [
  {
   "cell_type": "code",
   "execution_count": 1,
   "metadata": {
    "ExecuteTime": {
     "end_time": "2016-11-02T12:16:47.563296",
     "start_time": "2016-11-02T12:16:47.559441"
    },
    "collapsed": true
   },
   "outputs": [],
   "source": [
    "# snakemake::params conda_env='py3_ley0.2'\n",
    "# snakemake::message 'this is a message'\n",
    "# snakemake::input\n",
    "infile = '/ebio/abt3_projects/small_projects/nyoungblut/dev/snakemake-nb/data/mtcars_n.txt'"
   ]
  },
  {
   "cell_type": "code",
   "execution_count": 2,
   "metadata": {
    "ExecuteTime": {
     "end_time": "2016-11-02T12:16:47.692739",
     "start_time": "2016-11-02T12:16:47.686050"
    },
    "collapsed": false
   },
   "outputs": [],
   "source": [
    "%load_ext rpy2.ipython"
   ]
  },
  {
   "cell_type": "code",
   "execution_count": 3,
   "metadata": {
    "ExecuteTime": {
     "end_time": "2016-11-02T12:17:33.480773",
     "start_time": "2016-11-02T12:17:33.058785"
    },
    "collapsed": false
   },
   "outputs": [
    {
     "name": "stderr",
     "output_type": "stream",
     "text": [
      "/ebio/abt3_projects/small_projects/nyoungblut/bin/miniconda2/envs/py3_ley0.2/lib/python3.5/site-packages/rpy2/rinterface/__init__.py:185: RRuntimeWarning: \n",
      "Attaching package: ‘dplyr’\n",
      "\n",
      "\n",
      "  warnings.warn(x, RRuntimeWarning)\n",
      "/ebio/abt3_projects/small_projects/nyoungblut/bin/miniconda2/envs/py3_ley0.2/lib/python3.5/site-packages/rpy2/rinterface/__init__.py:185: RRuntimeWarning: The following objects are masked from ‘package:stats’:\n",
      "\n",
      "    filter, lag\n",
      "\n",
      "\n",
      "  warnings.warn(x, RRuntimeWarning)\n",
      "/ebio/abt3_projects/small_projects/nyoungblut/bin/miniconda2/envs/py3_ley0.2/lib/python3.5/site-packages/rpy2/rinterface/__init__.py:185: RRuntimeWarning: The following objects are masked from ‘package:base’:\n",
      "\n",
      "    intersect, setdiff, setequal, union\n",
      "\n",
      "\n",
      "  warnings.warn(x, RRuntimeWarning)\n"
     ]
    }
   ],
   "source": [
    "%%R\n",
    "library(dplyr)\n",
    "library(ggplot2)"
   ]
  },
  {
   "cell_type": "code",
   "execution_count": 4,
   "metadata": {
    "ExecuteTime": {
     "end_time": "2016-11-02T12:16:50.567837",
     "start_time": "2016-11-02T12:16:50.540910"
    },
    "collapsed": false
   },
   "outputs": [
    {
     "data": {
      "text/plain": [
       "  cyl  n\n",
       "1   4 11\n",
       "2   6  7\n",
       "3   8 14\n"
      ]
     },
     "metadata": {},
     "output_type": "display_data"
    }
   ],
   "source": [
    "%%R -i infile\n",
    "\n",
    "df = read.delim(infile)\n",
    "df %>% head"
   ]
  },
  {
   "cell_type": "code",
   "execution_count": 5,
   "metadata": {
    "ExecuteTime": {
     "end_time": "2016-11-02T12:17:58.376489",
     "start_time": "2016-11-02T12:17:58.042404"
    },
    "collapsed": false
   },
   "outputs": [
    {
     "data": {
      "image/png": "[encoded data removed]"
     },
     "metadata": {},
     "output_type": "display_data"
    }
   ],
   "source": [
    "%%R -h 300\n",
    "p = ggplot(df, aes(cyl, n)) +\n",
    "    geom_bar(stat='identity') +\n",
    "    theme_bw() +\n",
    "    theme(\n",
    "        text = element_text(size=16)\n",
    "    )\n",
    "p"
   ]
  },
  {
   "cell_type": "code",
   "execution_count": 6,
   "metadata": {
    "ExecuteTime": {
     "end_time": "2016-11-02T12:18:16.766284",
     "start_time": "2016-11-02T12:18:16.321339"
    },
    "collapsed": false
   },
   "outputs": [],
   "source": [
    "%%R\n",
    "# snakemake::output\n",
    "outfile = '/ebio/abt3_projects/small_projects/nyoungblut/dev/snakemake-nb/data/mtcars_n.pdf'\n",
    "ggsave(outfile, p, width=4, height=2)"
   ]
  },
  {
   "cell_type": "code",
   "execution_count": 7,
   "metadata": {
    "collapsed": true
   },
   "outputs": [],
   "source": []
  }
 ],
 "metadata": {
  "anaconda-cloud": {},
  "kernelspec": {
   "display_name": "Python [conda env:py3_ley0.2]",
   "language": "python",
   "name": "conda-env-py3_ley0.2-py"
  },
  "language_info": {
   "codemirror_mode": {
    "name": "ipython",
    "version": 3
   },
   "file_extension": ".py",
   "mimetype": "text/x-python",
   "name": "python",
   "nbconvert_exporter": "python",
   "pygments_lexer": "ipython3",
   "version": "3.5.2"
  },
  "toc": {
   "nav_menu": {
    "height": "12px",
    "width": "252px"
   },
   "navigate_menu": true,
   "number_sections": true,
   "sideBar": true,
   "threshold": 4,
   "toc_cell": false,
   "toc_section_display": "block",
   "toc_window_display": false
  }
 },
 "nbformat": 4,
 "nbformat_minor": 1
}
