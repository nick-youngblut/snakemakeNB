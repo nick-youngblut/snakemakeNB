{
 "cells": [
  {
   "cell_type": "code",
   "execution_count": 13,
   "metadata": {
    "ExecuteTime": {
     "end_time": "2016-11-01T16:36:48.728959",
     "start_time": "2016-11-01T16:36:48.724293"
    },
    "collapsed": true
   },
   "outputs": [],
   "source": [
    "workdir = '/ebio/abt3_projects/small_projects/nyoungblut/dev/jupyterSM/data/'\n",
    "# snakemake: input\n",
    "infile = '/ebio/abt3_projects/small_projects/nyoungblut/dev/jupyterSM/data/mtcars.txt'\n",
    "# snakemake: input\n",
    "infile = '/ebio/abt3_projects/small_projects/nyoungblut/dev/jupyterSM/data/test.txt'"
   ]
  },
  {
   "cell_type": "code",
   "execution_count": 2,
   "metadata": {
    "ExecuteTime": {
     "end_time": "2016-11-01T16:31:40.447608",
     "start_time": "2016-11-01T16:31:37.308375"
    },
    "collapsed": true
   },
   "outputs": [],
   "source": [
    "%load_ext rpy2.ipython"
   ]
  },
  {
   "cell_type": "code",
   "execution_count": 4,
   "metadata": {
    "ExecuteTime": {
     "end_time": "2016-11-01T16:32:18.569148",
     "start_time": "2016-11-01T16:32:17.742388"
    },
    "collapsed": false
   },
   "outputs": [
    {
     "name": "stderr",
     "output_type": "stream",
     "text": [
      "/ebio/abt3_projects/small_projects/nyoungblut/bin/miniconda2/envs/py3_ley0.2/lib/python3.5/site-packages/rpy2/rinterface/__init__.py:185: RRuntimeWarning: \n",
      "Attaching package: ‘dplyr’\n",
      "\n",
      "\n",
      "  warnings.warn(x, RRuntimeWarning)\n",
      "/ebio/abt3_projects/small_projects/nyoungblut/bin/miniconda2/envs/py3_ley0.2/lib/python3.5/site-packages/rpy2/rinterface/__init__.py:185: RRuntimeWarning: The following objects are masked from ‘package:stats’:\n",
      "\n",
      "    filter, lag\n",
      "\n",
      "\n",
      "  warnings.warn(x, RRuntimeWarning)\n",
      "/ebio/abt3_projects/small_projects/nyoungblut/bin/miniconda2/envs/py3_ley0.2/lib/python3.5/site-packages/rpy2/rinterface/__init__.py:185: RRuntimeWarning: The following objects are masked from ‘package:base’:\n",
      "\n",
      "    intersect, setdiff, setequal, union\n",
      "\n",
      "\n",
      "  warnings.warn(x, RRuntimeWarning)\n"
     ]
    }
   ],
   "source": [
    "%%R\n",
    "library(dplyr)"
   ]
  },
  {
   "cell_type": "code",
   "execution_count": 6,
   "metadata": {
    "ExecuteTime": {
     "end_time": "2016-11-01T16:32:25.603047",
     "start_time": "2016-11-01T16:32:25.585884"
    },
    "collapsed": false
   },
   "outputs": [
    {
     "data": {
      "text/plain": [
       "                   mpg cyl disp  hp drat    wt  qsec vs am gear carb\n",
       "Mazda RX4         21.0   6  160 110 3.90 2.620 16.46  0  1    4    4\n",
       "Mazda RX4 Wag     21.0   6  160 110 3.90 2.875 17.02  0  1    4    4\n",
       "Datsun 710        22.8   4  108  93 3.85 2.320 18.61  1  1    4    1\n",
       "Hornet 4 Drive    21.4   6  258 110 3.08 3.215 19.44  1  0    3    1\n",
       "Hornet Sportabout 18.7   8  360 175 3.15 3.440 17.02  0  0    3    2\n",
       "Valiant           18.1   6  225 105 2.76 3.460 20.22  1  0    3    1\n"
      ]
     },
     "metadata": {},
     "output_type": "display_data"
    }
   ],
   "source": [
    "%%R -i infile\n",
    "\n",
    "df = read.delim(infile)\n",
    "df %>% head"
   ]
  },
  {
   "cell_type": "code",
   "execution_count": 7,
   "metadata": {
    "ExecuteTime": {
     "end_time": "2016-11-01T16:32:51.890052",
     "start_time": "2016-11-01T16:32:51.832095"
    },
    "collapsed": false
   },
   "outputs": [
    {
     "data": {
      "text/plain": [
       "Source: local data frame [3 x 2]\n",
       "\n",
       "    cyl     n\n",
       "  (int) (int)\n",
       "1     4    11\n",
       "2     6     7\n",
       "3     8    14\n"
      ]
     },
     "metadata": {},
     "output_type": "display_data"
    }
   ],
   "source": [
    "%%R\n",
    "df_sum = df %>%\n",
    "    group_by(cyl) %>%\n",
    "    summarize(n=n())\n",
    "df_sum %>% head"
   ]
  },
  {
   "cell_type": "code",
   "execution_count": 12,
   "metadata": {
    "ExecuteTime": {
     "end_time": "2016-11-01T16:36:37.585802",
     "start_time": "2016-11-01T16:36:37.572318"
    },
    "collapsed": false
   },
   "outputs": [],
   "source": [
    "%%R\n",
    "# snakemake: output\n",
    "outfile = '/ebio/abt3_projects/small_projects/nyoungblut/dev/jupyterSM/data/mtcars_n.txt'\n",
    "write.table(df_sum, outfile, sep='\\t', quote=FALSE)"
   ]
  },
  {
   "cell_type": "code",
   "execution_count": 14,
   "metadata": {
    "ExecuteTime": {
     "end_time": "2016-11-01T16:36:55.043075",
     "start_time": "2016-11-01T16:36:54.910230"
    },
    "collapsed": false
   },
   "outputs": [
    {
     "name": "stdout",
     "output_type": "stream",
     "text": [
      "mtcars_n.txt  mtcars.txt\r\n"
     ]
    }
   ],
   "source": [
    "!ls $workdir"
   ]
  }
 ],
 "metadata": {
  "anaconda-cloud": {},
  "kernelspec": {
   "display_name": "Python [conda env:py3_ley0.2]",
   "language": "python",
   "name": "conda-env-py3_ley0.2-py"
  },
  "language_info": {
   "codemirror_mode": {
    "name": "ipython",
    "version": 3
   },
   "file_extension": ".py",
   "mimetype": "text/x-python",
   "name": "python",
   "nbconvert_exporter": "python",
   "pygments_lexer": "ipython3",
   "version": "3.5.2"
  },
  "toc": {
   "nav_menu": {
    "height": "12px",
    "width": "252px"
   },
   "navigate_menu": true,
   "number_sections": true,
   "sideBar": true,
   "threshold": 4,
   "toc_cell": false,
   "toc_section_display": "block",
   "toc_window_display": false
  }
 },
 "nbformat": 4,
 "nbformat_minor": 1
}
